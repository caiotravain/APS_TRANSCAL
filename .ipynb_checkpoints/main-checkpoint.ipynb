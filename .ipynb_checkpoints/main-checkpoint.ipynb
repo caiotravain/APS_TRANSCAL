{
 "cells": [
  {
   "cell_type": "markdown",
   "metadata": {},
   "source": [
    "# SOFTWARE PARA ANÁLISE DE TRELIÇAS PLANAS\n",
    "  \n",
    "  ### Arthur Fonseca, Caio Travain, Guilherme Caproni e Leonardo Andrade\n"
   ]
  },
  {
   "cell_type": "code",
   "execution_count": 1,
   "metadata": {},
   "outputs": [],
   "source": [
    "from funcoesTermosol import *\n",
    "import numpy as np\n",
    "import matplotlib.pyplot as plt"
   ]
  },
  {
   "cell_type": "markdown",
   "metadata": {},
   "source": [
    "## Função Jacobi\n",
    "\n",
    "A função `jacobi` implementa o método iterativo de Jacobi para resolver sistemas de equações lineares. O método de Jacobi é um algoritmo iterativo que aproxima as soluções de um sistema de equações lineares por meio de uma série de iterações.\n",
    "\n",
    "### Parâmetros:\n",
    "- `ite`: Número máximo de iterações permitidas.\n",
    "- `tol`: Tolerância para o critério de parada.\n",
    "- `K`: Matriz de coeficientes do sistema de equações.\n",
    "- `F`: Vetor de termos independentes.\n",
    "\n",
    "### Retorno:\n",
    "- Lista contendo os valores atualizados das incógnitas `x` do sistema de equações.\n",
    "\n"
   ]
  },
  {
   "cell_type": "code",
   "execution_count": 15,
   "metadata": {},
   "outputs": [],
   "source": [
    "def jacobi(ite, tol, K, F):\n",
    "    tamanho = len(K)\n",
    "    continuar = True\n",
    "\n",
    "    erroMax = 0\n",
    "    lista_x = []\n",
    "    lista_err = []\n",
    "    for i in range(tamanho):\n",
    "        lista_x.append(0)\n",
    "        lista_err.append(0)\n",
    "        \n",
    "    erroMax = 0\n",
    "\n",
    "    numeroIteracoes = 0\n",
    "\n",
    "    linhas_x = []\n",
    "    for i in range(len(K)):\n",
    "        linhas_x.append(0)\n",
    "    \n",
    "    while continuar:\n",
    "        for i in range(len(linhas_x)):\n",
    "            temp= 0\n",
    "            temp2 = 0\n",
    "            for j in range(len(linhas_x)):\n",
    "                if i != j:\n",
    "                    temp = K[i][j] * lista_x[j]\n",
    "                    temp2 = temp + temp2            \n",
    "            linhas_x[i] = (F[i][0] - temp2) / K[i][i]\n",
    "\n",
    "       \n",
    "            for i in range(len(linhas_x)):\n",
    "                try:\n",
    "                    if (linhas_x[i] != 0):\n",
    "                        lista_err[i] = ((linhas_x[i] - lista_x[i]) / linhas_x[i])\n",
    "                except:\n",
    "                    pass\n",
    "        \n",
    "\n",
    "        for i in range(len(linhas_x)):\n",
    "            lista_x[i] = linhas_x[i]\n",
    "\n",
    "        numeroIteracoes += 1\n",
    "\n",
    "        if numeroIteracoes == ite:\n",
    "            continuar = False\n",
    "        count = 0\n",
    "        for i in range(len(lista_err)):\n",
    "            if lista_err[i] < tol and numeroIteracoes > 1:\n",
    "                count += 1\n",
    "        if count == len(lista_err):\n",
    "            continuar = False\n",
    "    erroMax = max(lista_err)\n",
    "    return [lista_x]"
   ]
  },
  {
   "cell_type": "markdown",
   "metadata": {},
   "source": [
    "## Função Gauss-Seidel\n",
    "\n",
    "A função `gaussSeidel` implementa o método iterativo de Gauss-Seidel para resolver sistemas de equações lineares. O método de Gauss-Seidel é uma variante do método de Jacobi que oferece melhor convergência em algumas situações.\n",
    "\n",
    "### Parâmetros:\n",
    "- `ite`: Número máximo de iterações permitidas.\n",
    "- `tol`: Tolerância para o critério de parada.\n",
    "- `K`: Matriz de coeficientes do sistema de equações.\n",
    "- `F`: Vetor de termos independentes.\n",
    "\n",
    "### Retorno:\n",
    "- Lista contendo os valores atualizados das incógnitas `x` do sistema de equações.\n"
   ]
  },
  {
   "cell_type": "code",
   "execution_count": 16,
   "metadata": {},
   "outputs": [],
   "source": [
    "def gaussSeidel(ite, tol, K, F):\n",
    "    continuar = True\n",
    "    tamanho = len(K)\n",
    "\n",
    "    erroMax = 0\n",
    "    lista_x = []\n",
    "    lista_err = []\n",
    "    for i in range(tamanho):\n",
    "        lista_x.append(0)\n",
    "        lista_err.append(0)\n",
    "        \n",
    "    erroMax = 0\n",
    "\n",
    "    numeroIteracoes = 0\n",
    "\n",
    "    linhas_x = []\n",
    "    for i in range(len(K)):\n",
    "        linhas_x.append(0)\n",
    "    \n",
    "    while continuar:\n",
    "        for i in range(len(linhas_x)):\n",
    "            temp= 0\n",
    "            temp2 = 0\n",
    "            for j in range(len(linhas_x)):\n",
    "                if i != j:\n",
    "                    if i == 0:\n",
    "                        temp = K[i][j] * lista_x[j]\n",
    "                        temp2 = temp + temp2\n",
    "                    else:\n",
    "                        temp = K[i][j] * linhas_x[j]\n",
    "                        temp2 = temp + temp2\n",
    "                           \n",
    "            linhas_x[i] = (F[i][0] - temp2) / K[i][i]\n",
    "\n",
    "        try:\n",
    "            for i in range(len(linhas_x)):\n",
    "                if (linhas_x[i] != 0):\n",
    "                    lista_err[i] = abs((linhas_x[i] - lista_x[i]) / linhas_x[i])\n",
    "        except:\n",
    "            pass\n",
    "        \n",
    "\n",
    "        for i in range(len(linhas_x)):\n",
    "            lista_x[i] = linhas_x[i]\n",
    "\n",
    "        numeroIteracoes += 1\n",
    "\n",
    "        if numeroIteracoes == ite:\n",
    "            continuar = False\n",
    "        count = 0\n",
    "        for i in range(len(lista_err)):\n",
    "            if lista_err[i] < tol and numeroIteracoes > 1:\n",
    "                count += 1\n",
    "        if count == len(lista_err):\n",
    "            continuar = False\n",
    "     \n",
    "    erroMax = max(lista_err)\n",
    "    return [lista_x]\n"
   ]
  },
  {
   "cell_type": "markdown",
   "metadata": {},
   "source": [
    "## Modelo de treliça que será analisado"
   ]
  },
  {
   "cell_type": "code",
   "execution_count": 24,
   "metadata": {},
   "outputs": [
    {
     "data": {
      "image/png": "[encoded data removed]",
      "text/plain": [
       "<Figure size 432x288 with 1 Axes>"
      ]
     },
     "metadata": {
      "needs_background": "light"
     },
     "output_type": "display_data"
    }
   ],
   "source": [
    "\n",
    "[nn,N,nm,Inc,nc,F,nr,R] = importa('entrada2.xlsx')\n",
    "\n",
    "plota(N,Inc)\n"
   ]
  },
  {
   "cell_type": "code",
   "execution_count": 18,
   "metadata": {},
   "outputs": [],
   "source": [
    "lista_kg = np.zeros((nn*2, nn*2))\n",
    "\n",
    "lista_deforma = []\n",
    "lista_tensao = []\n",
    "lista_ke = []\n",
    "\n",
    "\n",
    "\n",
    "for i in range(nm):\n",
    "    n1 = int(Inc[i,0])\n",
    "    n2 = int(Inc[i,1])        \n",
    "    E = Inc[i,2]\n",
    "    A = Inc[i,3]\n",
    "    x1 = N[0,n1-1]\n",
    "    y1 = N[1,n1-1]\n",
    "    x2 = N[0,n2-1]\n",
    "    y2 = N[1,n2-1]\n",
    "    L = np.sqrt((x2-x1)**2 + (y2-y1)**2)\n",
    "    cos = (x2-x1)/L\n",
    "    sen = (y2-y1)/L\n",
    "    ke = np.array([[cos**2,cos*sen, -cos**2,-cos*sen], [cos*sen,sen**2,-cos*sen,-sen**2], [-cos**2,-cos*sen,cos**2,cos*sen], [-cos*sen,-sen**2,cos*sen,sen**2]])* E* A/L\n",
    "    # print(ke)\n",
    "    # print(\"---------------------------------\")\n",
    "\n",
    "\n",
    "    lista_ke.append(ke)\n"
   ]
  },
  {
   "cell_type": "markdown",
   "metadata": {},
   "source": [
    "### Deslocamentos, forças e matriz de rigidez global "
   ]
  },
  {
   "cell_type": "code",
   "execution_count": 28,
   "metadata": {},
   "outputs": [],
   "source": [
    "# Calculate the dimension of the global matrix\n",
    "global_size = nn * 2\n",
    "\n",
    "# Initialize the global matrix with zeros\n",
    "global_matrix = np.zeros((global_size, global_size))\n",
    "\n",
    "# Iterate over the elements and add their stiffness matrices to the global matrix\n",
    "for i in range(nm):\n",
    "    n1 = int(Inc[i, 0])\n",
    "    n2 = int(Inc[i, 1])\n",
    "    ke = lista_ke[i]\n",
    "\n",
    "    # Determine the corresponding indices in the global matrix\n",
    "    indices = [n1 * 2 - 2, n1 * 2 - 1, n2 * 2 - 2, n2 * 2 - 1]\n",
    "\n",
    "    # Add the element stiffness matrix to the global matrix using the indices\n",
    "    global_matrix[np.ix_(indices, indices)] += ke\n",
    "\n"
   ]
  },
  {
   "cell_type": "code",
   "execution_count": 31,
   "metadata": {},
   "outputs": [
    {
     "name": "stdout",
     "output_type": "stream",
     "text": [
      "Deslocamentos completos:\n",
      "[ 0.          0.          0.00100474 -0.00431173  0.00035977 -0.00466313\n",
      "  0.00025974 -0.00443928  0.00055859 -0.00463759 -0.00032427 -0.00424778\n",
      "  0.00116451  0.        ]\n"
     ]
    }
   ],
   "source": [
    "matrix_simpl = global_matrix\n",
    "\n",
    "matrix_simpl = np.delete(matrix_simpl, R.astype(int), axis=0)\n",
    "matrix_simpl = np.delete(matrix_simpl, R.astype(int), axis=1)\n",
    "\n",
    "forca = F\n",
    "forca_simp = np.delete(F, R.astype(int), axis=0)\n",
    "\n",
    "u2 = np.linalg.solve(matrix_simpl, forca_simp)\n",
    "\n",
    "# Print dos resultados\n",
    "#print(\"Deslocamentos:\")\n",
    "#print(u2)\n",
    "\n",
    "#print(\"Forças:\")\n",
    "#print(forca_simp)\n",
    "\n",
    "#print(\"Matriz de rigidez global:\")\n",
    "#print(matrix_simpl)\n",
    "\n",
    "u_compl = u2\n",
    "\n",
    "for i in R.astype(int):\n",
    "    u_compl = np.insert(u_compl, i, 0)\n",
    "\n",
    "print(\"Deslocamentos completos:\")\n",
    "print(u_compl)\n"
   ]
  },
  {
   "cell_type": "markdown",
   "metadata": {},
   "source": [
    "### Utilizando os métodos de Jacobi e GaussSeidel, feitos anteriormente"
   ]
  },
  {
   "cell_type": "code",
   "execution_count": 33,
   "metadata": {},
   "outputs": [
    {
     "name": "stderr",
     "output_type": "stream",
     "text": [
      "<ipython-input-10-2e728ff7c561>:27: RuntimeWarning: overflow encountered in double_scalars\n",
      "  temp2 = temp + temp2\n",
      "<ipython-input-10-2e728ff7c561>:34: RuntimeWarning: invalid value encountered in double_scalars\n",
      "  lista_err[i] = ((linhas_x[i] - lista_x[i]) / linhas_x[i])\n",
      "<ipython-input-10-2e728ff7c561>:26: RuntimeWarning: invalid value encountered in double_scalars\n",
      "  temp = K[i][j] * lista_x[j]\n",
      "<ipython-input-10-2e728ff7c561>:27: RuntimeWarning: invalid value encountered in double_scalars\n",
      "  temp2 = temp + temp2\n"
     ]
    }
   ],
   "source": [
    "jacob = jacobi(10000, 0.0000000000001 , matrix_simpl, forca_simp)\n",
    "\n",
    "gauss = gaussSeidel(10000, 0.0000000000001 , matrix_simpl, forca_simp)\n",
    "\n",
    "\n",
    "for i in R.astype(int):\n",
    "    jacob = np.insert(jacob, i, 0)\n",
    "\n",
    "for i in R.astype(int):\n",
    "    gauss = np.insert(gauss, i, 0)\n",
    "\n"
   ]
  },
  {
   "cell_type": "markdown",
   "metadata": {},
   "source": [
    "### Cálculo de deformações e tensões"
   ]
  },
  {
   "cell_type": "code",
   "execution_count": 37,
   "metadata": {},
   "outputs": [
    {
     "name": "stdout",
     "output_type": "stream",
     "text": [
      "Deformações: \n",
      "\n",
      "[-0.0063951608108102, -0.004493151776560617, -0.0037764527201767334, -0.003528364585274621, -0.0007556124065307623, 0.0007556124065307549, 0.0019112549106366605, -0.0019112549106366508, 0.001873794977243244, 0.001035518276897586, 0.00315586522483076]\n",
      "-------------------------\n",
      "Tensões: \n",
      "\n",
      "[-1235161358.999882, -867807334.1249175, -729384078.3749342, -681468335.9999403, -145938980.19735143, 145938980.19735, 369139773.4403646, -369139773.44036275, 361904761.9047602, 199999999.9999998, 609523809.5238129]\n"
     ]
    }
   ],
   "source": [
    "\n",
    "#calcular reacoes de apoio\n",
    "reacoes = np.dot(global_matrix, u_compl)\n",
    "reacoes = reacoes[R.astype(int)]\n",
    "\n",
    "\n",
    "# print(\"Reações de apoio: \\n\",reacoes)\n",
    "\n",
    "#calcular tensao e deformacao\n",
    "lista_deforma = []\n",
    "lista_tensao = []\n",
    "lista_forca_int = []\n",
    "index_u = 0\n",
    "for i in range(nm):\n",
    "    n1 = int(Inc[i,0])\n",
    "    n2 = int(Inc[i,1])        \n",
    "    E = Inc[i,2]\n",
    "    A = Inc[i,3]\n",
    "    x1 = N[0,n1-1]\n",
    "    y1 = N[1,n1-1]\n",
    "    x2 = N[0,n2-1]\n",
    "    y2 = N[1,n2-1]\n",
    "    L = np.sqrt((x2-x1)**2 + (y2-y1)**2)\n",
    "    cos = (x2-x1)/L\n",
    "    sen = (y2-y1)/L\n",
    "    index1 = (n1 - 1) *2\n",
    "    index2 = (n2 - 1) *2\n",
    "    try:\n",
    "        temp_desl = np.array([u_compl[index1], u_compl[index1+1], u_compl[index2 ], u_compl[index2 +1]])\n",
    "        s = E/L* np.dot(np.array([-cos, -sen, cos, sen]), temp_desl)\n",
    "        e = 1/L* np.dot(np.array([-cos, -sen, cos, sen]), temp_desl)\n",
    "    except:\n",
    "        pass\n",
    "\n",
    "    \n",
    "    lista_deforma.append(e)\n",
    "    lista_tensao.append(s)\n",
    "    lista_forca_int.append(s*A)\n",
    "\n",
    "print(\"Deformações: \\n\")\n",
    "print(lista_deforma)\n",
    "print(\"-------------------------\")\n",
    "print(\"Tensões: \\n\")\n",
    "print(lista_tensao)\n"
   ]
  },
  {
   "cell_type": "markdown",
   "metadata": {},
   "source": [
    "### Gerando códigos .txt para o Numpy, Jacobi e Gauss, com reações de apoio, deslocamentos, deformações, forças internas e tensões internas"
   ]
  },
  {
   "cell_type": "code",
   "execution_count": 43,
   "metadata": {},
   "outputs": [],
   "source": [
    "\n",
    "Ft = reacoes\n",
    "Ut = u_compl\n",
    "Epsi = lista_deforma\n",
    "Fi = lista_forca_int\n",
    "Ti = lista_tensao\n",
    "\n",
    "nome = \"saidanumpy\"\n",
    "\n",
    "geraSaida(nome,Ft,Ut,Epsi,Fi,Ti)"
   ]
  },
  {
   "cell_type": "code",
   "execution_count": 38,
   "metadata": {},
   "outputs": [],
   "source": [
    "\n",
    "\n",
    "#calcular reacoes de apoio\n",
    "reacoes = np.dot(global_matrix, gauss)\n",
    "reacoes = reacoes[R.astype(int)]\n",
    "\n",
    "\n",
    "lista_deforma = []\n",
    "lista_tensao = []\n",
    "lista_forca_int = []\n",
    "index_u = 0\n",
    "for i in range(nm):\n",
    "    n1 = int(Inc[i,0])\n",
    "    n2 = int(Inc[i,1])        \n",
    "    E = Inc[i,2]\n",
    "    A = Inc[i,3]\n",
    "    x1 = N[0,n1-1]\n",
    "    y1 = N[1,n1-1]\n",
    "    x2 = N[0,n2-1]\n",
    "    y2 = N[1,n2-1]\n",
    "    L = np.sqrt((x2-x1)**2 + (y2-y1)**2)\n",
    "    cos = (x2-x1)/L\n",
    "    sen = (y2-y1)/L\n",
    "    index1 = (n1 - 1) *2\n",
    "    index2 = (n2 - 1) *2\n",
    "    try:\n",
    "        temp_desl = np.array([gauss[index1], gauss[index1+1], gauss[index2 ], gauss[index2 +1]])\n",
    "        s = E/L* np.dot(np.array([-cos, -sen, cos, sen]), temp_desl)\n",
    "        e = 1/L* np.dot(np.array([-cos, -sen, cos, sen]), temp_desl)\n",
    "    except:\n",
    "        pass\n",
    "\n",
    "    \n",
    "    lista_deforma.append(e)\n",
    "    lista_tensao.append(s)\n",
    "    lista_forca_int.append(s*A)\n",
    "\n",
    "\n",
    "nome = \"saidagauss\"\n",
    "Ft = reacoes\n",
    "Epsi = lista_deforma\n",
    "Fi = lista_forca_int\n",
    "Ti = lista_tensao\n",
    "\n",
    "geraSaida(nome,Ft,gauss,Epsi,Fi,Ti)\n"
   ]
  },
  {
   "cell_type": "code",
   "execution_count": 39,
   "metadata": {},
   "outputs": [],
   "source": [
    " \n",
    "reacoes = np.dot(global_matrix, jacob)\n",
    "reacoes = reacoes[R.astype(int)]\n",
    "\n",
    "lista_deforma = []\n",
    "lista_tensao = []\n",
    "lista_forca_int = []\n",
    "index_u = 0\n",
    "for i in range(nm):\n",
    "    n1 = int(Inc[i,0])\n",
    "    n2 = int(Inc[i,1])        \n",
    "    E = Inc[i,2]\n",
    "    A = Inc[i,3]\n",
    "    x1 = N[0,n1-1]\n",
    "    y1 = N[1,n1-1]\n",
    "    x2 = N[0,n2-1]\n",
    "    y2 = N[1,n2-1]\n",
    "    L = np.sqrt((x2-x1)**2 + (y2-y1)**2)\n",
    "    cos = (x2-x1)/L\n",
    "    sen = (y2-y1)/L\n",
    "    index1 = (n1 - 1) *2\n",
    "    index2 = (n2 - 1) *2\n",
    "    try:\n",
    "        temp_desl = np.array([jacob[index1], jacob[index1+1], jacob[index2 ], jacob[index2 +1]])\n",
    "        s = E/L* np.dot(np.array([-cos, -sen, cos, sen]), temp_desl)\n",
    "        e = 1/L* np.dot(np.array([-cos, -sen, cos, sen]), temp_desl)\n",
    "    except:\n",
    "        pass\n",
    "\n",
    "    \n",
    "    lista_deforma.append(e)\n",
    "    lista_tensao.append(s)\n",
    "    lista_forca_int.append(s*A)\n",
    "\n",
    "\n",
    "nome = \"saidajacobi\"\n",
    "Ft = reacoes\n",
    "Epsi = lista_deforma\n",
    "Fi = lista_forca_int\n",
    "Ti = lista_tensao\n",
    "\n",
    "geraSaida(nome,Ft,jacob,Epsi,Fi,Ti)"
   ]
  },
  {
   "cell_type": "markdown",
   "metadata": {},
   "source": [
    "## Cálculo das Novas Posições com Deslocamentos\n",
    "\n",
    "Nesta parte do código, é realizado o cálculo das novas posições dos nós considerando os deslocamentos ocorridos no sistema.\n",
    "\n",
    "- É criada uma estrutura de dados vazia para armazenar as coordenadas das novas posições dos nós.\n",
    "- Para cada nó do sistema, são executadas as seguintes etapas:\n",
    "  - As coordenadas originais do nó são obtidas.\n",
    "  - São aplicados os deslocamentos correspondentes ao nó, se necessário.\n",
    "  - Com base nas coordenadas originais e nos deslocamentos, são calculadas as novas coordenadas do nó.\n",
    "  - As novas coordenadas são adicionadas à estrutura de dados das novas posições.\n",
    "- Ao final do processo, temos as novas posições dos nós, considerando os deslocamentos ocorridos no sistema.\n",
    "\n",
    "Além disso, pode haver um fator de escala que é aplicado nas coordenadas das novas posições antes de serem armazenadas. Esse fator pode ser definido interativamente pelo usuário e tem o objetivo de ajustar a escala das posições para uma melhor visualização ou análise dos resultados.\n",
    "\n",
    "Após o cálculo das novas posições, é possível realizar outras operações, como calcular a diferença entre as posições originais e as novas posições ou realizar a plotagem das novas posições no sistema.\n"
   ]
  },
  {
   "cell_type": "code",
   "execution_count": 42,
   "metadata": {},
   "outputs": [
    {
     "name": "stdout",
     "output_type": "stream",
     "text": [
      "Digite o fator de aumento minimo para a escala [recomendação de 1000 para ex1 e 5 para ex2]:10\n",
      "Fator de escala:  10\n",
      "Diferença entre posições originais e novas: \n",
      " [[ 0.          0.01004738  0.00359769  0.00259743  0.00558588 -0.00324273\n",
      "   0.01164514]\n",
      " [ 0.         -0.04311733 -0.04663129 -0.04439278 -0.04637588 -0.04247785\n",
      "   0.        ]]\n"
     ]
    },
    {
     "data": {
      "image/png": "[encoded data removed]",
      "text/plain": [
       "<Figure size 432x288 with 1 Axes>"
      ]
     },
     "metadata": {
      "needs_background": "light"
     },
     "output_type": "display_data"
    }
   ],
   "source": [
    "lista_novas_posicoes_x = []\n",
    "lista_novas_posicoes_y = []\n",
    "fator = 1\n",
    "\n",
    "for i in range(nn):\n",
    "    x = N[0,i]\n",
    "    y = N[1,i]\n",
    "\n",
    "\n",
    "    x2 = x + u_compl[i*2]\n",
    "    y2 = y + u_compl[i*2+1]\n",
    "\n",
    "    desl_x = u_compl[i*2]\n",
    "    desl_y = u_compl[i*2+1]\n",
    "\n",
    "\n",
    "    if i in R.astype(int):\n",
    "        lista_novas_posicoes_x.append(x)\n",
    "        lista_novas_posicoes_y.append(y) \n",
    "    else:            \n",
    "        lista_novas_posicoes_x.append(x2)\n",
    "        lista_novas_posicoes_y.append(y2)\n",
    "\n",
    "\n",
    "lista_novas_posicoes = np.array([lista_novas_posicoes_x, lista_novas_posicoes_y])\n",
    "fator = 1\n",
    "fator = int(input(\"Digite o fator de aumento minimo para a escala [recomendação de 1000 para ex1 e 5 para ex2]:\"))\n",
    "print(\"Fator de escala: \",fator)\n",
    "\n",
    "lista_novas_posicoes_x_fator = []\n",
    "lista_novas_posicoes_y_fator = []\n",
    "for i in range(nn):\n",
    "    x = N[0,i]\n",
    "    y = N[1,i]\n",
    "\n",
    "\n",
    "    x2 = x + u_compl[i*2]\n",
    "    y2 = y + u_compl[i*2+1]\n",
    "\n",
    "    desl_x = u_compl[i*2] * fator\n",
    "    desl_y = u_compl[i*2+1] * fator\n",
    "\n",
    "    x2 = x + desl_x\n",
    "    y2 = y + desl_y  \n",
    "\n",
    "\n",
    "    lista_novas_posicoes_x_fator.append(x2)\n",
    "    lista_novas_posicoes_y_fator.append(y2)\n",
    "\n",
    "\n",
    "    \n",
    "lista_novas_posicoes_fator = np.array([lista_novas_posicoes_x_fator, lista_novas_posicoes_y_fator])\n",
    "\n",
    "\n",
    "#diferenca entre posicoes originais e novas\n",
    "print(\"Diferença entre posições originais e novas: \\n\",lista_novas_posicoes_fator - N)\n",
    "\n",
    "plota_mais(lista_novas_posicoes_fator,Inc)"
   ]
  }
 ],
 "metadata": {
  "kernelspec": {
   "display_name": "Python 3",
   "language": "python",
   "name": "python3"
  },
  "language_info": {
   "codemirror_mode": {
    "name": "ipython",
    "version": 3
   },
   "file_extension": ".py",
   "mimetype": "text/x-python",
   "name": "python",
   "nbconvert_exporter": "python",
   "pygments_lexer": "ipython3",
   "version": "3.8.5"
  }
 },
 "nbformat": 4,
 "nbformat_minor": 2
}
